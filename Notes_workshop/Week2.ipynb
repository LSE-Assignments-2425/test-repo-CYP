{
 "cells": [
  {
   "cell_type": "markdown",
   "metadata": {},
   "source": [
    "## Week 2"
   ]
  },
  {
   "cell_type": "markdown",
   "metadata": {},
   "source": [
    "### 1. ternary expressions"
   ]
  },
  {
   "cell_type": "code",
   "execution_count": 1,
   "metadata": {},
   "outputs": [
    {
     "name": "stdout",
     "output_type": "stream",
     "text": [
      "22\n"
     ]
    }
   ],
   "source": [
    "x = 22\n",
    "y = x if x / 2 > 4 else \"cat\"\n",
    "print(y)"
   ]
  },
  {
   "cell_type": "markdown",
   "metadata": {},
   "source": [
    "### 2. enumerate\n",
    "* convenient for iterating over array while counting"
   ]
  },
  {
   "cell_type": "code",
   "execution_count": 2,
   "metadata": {},
   "outputs": [
    {
     "name": "stdout",
     "output_type": "stream",
     "text": [
      "0 : cat\n",
      "1 : dog\n",
      "2 : apple\n",
      "3 : 42\n",
      "{'cat': 0, 'dog': 1, 'apple': 2, 42: 3}\n"
     ]
    }
   ],
   "source": [
    "mydict = {}\n",
    "for n, x in enumerate([\"cat\", \"dog\", \"apple\", 42]):\n",
    "    print(n, \":\", x)\n",
    "    mydict[x] = n\n",
    "print(mydict)"
   ]
  },
  {
   "cell_type": "markdown",
   "metadata": {},
   "source": [
    "### 3. zip\n",
    "* a convenient way to pair up lists"
   ]
  },
  {
   "cell_type": "code",
   "execution_count": 3,
   "metadata": {},
   "outputs": [
    {
     "name": "stdout",
     "output_type": "stream",
     "text": [
      "['cat', 'dog', 'apple', 42]\n",
      "[0, 1, 2, 3]\n",
      "<zip object at 0x000001A5F1367D80>\n",
      "[('cat', 0), ('dog', 1), ('apple', 2), (42, 3)]\n",
      "\n",
      "Complicated example:\n",
      "[(('cat', 0), 'cat'), (('dog', 1), 'dog'), (('apple', 2), 'apple'), ((42, 3), 42)]\n"
     ]
    }
   ],
   "source": [
    "aList = [\"cat\", \"dog\", \"apple\", 42]\n",
    "print(aList)\n",
    "\n",
    "bList = list(range(4))\n",
    "print(bList)\n",
    "\n",
    "c = zip(aList, bList)\n",
    "print(c)\n",
    "c = list(c)\n",
    "print(c)\n",
    "\n",
    "print(\"\\nComplicated example:\")\n",
    "print(list(zip(c, aList)))"
   ]
  },
  {
   "cell_type": "markdown",
   "metadata": {},
   "source": [
    "### 4. List Comprehensions"
   ]
  },
  {
   "cell_type": "code",
   "execution_count": 4,
   "metadata": {},
   "outputs": [
    {
     "name": "stdout",
     "output_type": "stream",
     "text": [
      "[1, 45, 3.14, 15, 1.0, 2.0, 3, 4, 5, 6, 6, 7]\n",
      "[45, 15, 5, 6, 6, 7]\n",
      "[10.8596, 2.0, 5.0]\n"
     ]
    }
   ],
   "source": [
    "myList = [1, 45, 3.14, 15, 1.0, 2.0, 3, 4, 5, 6, 6, 7]\n",
    "print(myList)\n",
    "\n",
    "newList = [i for i in myList if i >= 5]\n",
    "print(newList)\n",
    "\n",
    "mathList = [x**2 + 1.0 for x in myList if isinstance(x, float)]\n",
    "print(mathList)"
   ]
  },
  {
   "cell_type": "markdown",
   "metadata": {},
   "source": [
    "### 5. Dict Comprehensions"
   ]
  },
  {
   "cell_type": "code",
   "execution_count": 5,
   "metadata": {},
   "outputs": [
    {
     "name": "stdout",
     "output_type": "stream",
     "text": [
      "{3: 'number 3', 1: 'number 1', 2: 'number 2', 4: 'number 4', 0: 'number 0'}\n"
     ]
    }
   ],
   "source": [
    "from numpy.random import randint\n",
    "\n",
    "A = randint(-10, 11, 100)\n",
    "myNewDict = {x: (\"Number \" + str(x)).lower() for x in A if (-1 < x < 5)}\n",
    "print(myNewDict)"
   ]
  }
 ],
 "metadata": {
  "kernelspec": {
   "display_name": "pytorchEnv",
   "language": "python",
   "name": "python3"
  },
  "language_info": {
   "codemirror_mode": {
    "name": "ipython",
    "version": 3
   },
   "file_extension": ".py",
   "mimetype": "text/x-python",
   "name": "python",
   "nbconvert_exporter": "python",
   "pygments_lexer": "ipython3",
   "version": "3.8.19"
  }
 },
 "nbformat": 4,
 "nbformat_minor": 2
}
